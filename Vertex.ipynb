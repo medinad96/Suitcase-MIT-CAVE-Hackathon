{
 "cells": [
  {
   "cell_type": "code",
   "execution_count": null,
   "metadata": {
    "collapsed": true
   },
   "outputs": [],
   "source": [
    "class Vertex: \n",
    "    def __init__(self, node, stageCost, stageTime, demand):\n",
    "        self.id = node\n",
    "        self.stageCost = stageCost\n",
    "        self.stageTime = stageTime\n",
    "        self.demand = demand\n",
    "        \n",
    "    def __str__(self):\n",
    "        return str(self.id)\n",
    "    \n",
    "    def get_id(self):\n",
    "        return self.id\n",
    "    \n",
    "    def get_cost(self):\n",
    "        return self.stageCost\n",
    "    \n",
    "    def get_stageTime(self):\n",
    "        return self.stageTime\n",
    "    \n",
    "    def get_demand(self):\n",
    "        return self.demand\n",
    "        "
   ]
  }
 ],
 "metadata": {
  "kernelspec": {
   "display_name": "Python 3",
   "language": "python",
   "name": "python3"
  },
  "language_info": {
   "codemirror_mode": {
    "name": "ipython",
    "version": 3
   },
   "file_extension": ".py",
   "mimetype": "text/x-python",
   "name": "python",
   "nbconvert_exporter": "python",
   "pygments_lexer": "ipython3",
   "version": "3.6.1"
  }
 },
 "nbformat": 4,
 "nbformat_minor": 2
}
